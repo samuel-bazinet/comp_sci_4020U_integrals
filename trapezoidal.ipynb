{
 "cells": [
  {
   "cell_type": "code",
   "execution_count": 26,
   "id": "f74b8caf",
   "metadata": {},
   "outputs": [],
   "source": [
    "from typing import Callable\n",
    "import numpy as np\n",
    "from scipy.integrate import quad\n",
    "import math\n",
    "import inspect"
   ]
  },
  {
   "cell_type": "markdown",
   "id": "d8dfef89",
   "metadata": {},
   "source": [
    "# Trapezoidal Rule"
   ]
  },
  {
   "cell_type": "code",
   "execution_count": 27,
   "id": "436de239",
   "metadata": {},
   "outputs": [
    {
     "name": "stdout",
     "output_type": "stream",
     "text": [
      "Approximation of the integral: 0.6668027072067475\n"
     ]
    }
   ],
   "source": [
    "def trapezoidal_rule_summation(func, a, b, n):\n",
    "    \"\"\"\n",
    "    Approximates the integral of a function using the trapezoidal rule.\n",
    "\n",
    "    :param func: The function to integrate.\n",
    "    :param a: The lower limit of integration.\n",
    "    :param b: The upper limit of integration.\n",
    "    :param n: The number of partitions.\n",
    "    :return: The approximate value of the integral.\n",
    "    \"\"\"\n",
    "    # Initialize approximation and partition points\n",
    "    result = 0 \n",
    "    arr = np.linspace(a,b,n)\n",
    "    \n",
    "    for i in range(1, n):\n",
    "        result += (1/2)*(arr[i]-arr[i-1])*(func(arr[i]) + func(arr[i-1]))  # Add up intermediate terms\n",
    "    return result\n",
    "\n",
    "# Example usage:\n",
    "def func(x):\n",
    "    return x**2\n",
    "\n",
    "a = -1\n",
    "b = 1\n",
    "n = 100\n",
    "integral_approximation = trapezoidal_rule_summation(func, a, b, n)\n",
    "print(\"Approximation of the integral:\", integral_approximation)"
   ]
  },
  {
   "cell_type": "code",
   "execution_count": 28,
   "id": "7d045d6f",
   "metadata": {},
   "outputs": [
    {
     "name": "stdout",
     "output_type": "stream",
     "text": [
      "Approximation of the integral: 0.6666666666666666\n"
     ]
    }
   ],
   "source": [
    "def integration(func, a, b):\n",
    "    return func(b)-func(a)\n",
    "\n",
    "def int_func(x):\n",
    "    return x**3/3\n",
    "\n",
    "a = -1\n",
    "b = 1\n",
    "integral_approximation = integration(int_func, a, b)\n",
    "print(\"Approximation of the integral:\", integral_approximation)"
   ]
  },
  {
   "cell_type": "code",
   "execution_count": 29,
   "id": "3c8b5a8d",
   "metadata": {},
   "outputs": [
    {
     "name": "stdout",
     "output_type": "stream",
     "text": [
      "Partitions\tApproximate Integral\tExact Integral\t\tAbsolute Percent Error\n",
      "----------------------------------------------------------------------------------------------------\n",
      "1\t\t0.000000\t\t0.666667\t\t100.00%\n",
      "2\t\t2.000000\t\t0.666667\t\t200.00%\n",
      "4\t\t0.814815\t\t0.666667\t\t22.22%\n",
      "8\t\t0.693878\t\t0.666667\t\t4.08%\n",
      "16\t\t0.672593\t\t0.666667\t\t0.89%\n",
      "32\t\t0.668054\t\t0.666667\t\t0.21%\n",
      "64\t\t0.667003\t\t0.666667\t\t0.05%\n",
      "128\t\t0.666749\t\t0.666667\t\t0.01%\n"
     ]
    }
   ],
   "source": [
    "# List of Δx values (partitions) we want to test \n",
    "delta_x_values = [1, 2, 4, 8, 16, 32, 64, 128]\n",
    "\n",
    "# Create the table\n",
    "print(\"Partitions\\tApproximate Integral\\tExact Integral\\t\\tAbsolute Percent Error\")\n",
    "print(\"-\" * 100)\n",
    "\n",
    "# Calculate the Trapezoidal Rule for Each Partition\n",
    "for delta_x in delta_x_values:\n",
    "    approximate_integral =  trapezoidal_rule_summation(func, a, b, delta_x) \n",
    "    absolute_percent_error = abs((integration(int_func, a, b) - approximate_integral) / integration(int_func, a, b)) * 100\n",
    "    print(f\"{delta_x}\\t\\t{approximate_integral:.6f}\\t\\t{integration(int_func, a, b):.6f}\\t\\t{absolute_percent_error:.2f}%\")"
   ]
  },
  {
   "cell_type": "code",
   "execution_count": null,
   "id": "8c3f2daa",
   "metadata": {},
   "outputs": [],
   "source": []
  }
 ],
 "metadata": {
  "kernelspec": {
   "display_name": "Python 3 (ipykernel)",
   "language": "python",
   "name": "python3"
  },
  "language_info": {
   "codemirror_mode": {
    "name": "ipython",
    "version": 3
   },
   "file_extension": ".py",
   "mimetype": "text/x-python",
   "name": "python",
   "nbconvert_exporter": "python",
   "pygments_lexer": "ipython3",
   "version": "3.11.4"
  }
 },
 "nbformat": 4,
 "nbformat_minor": 5
}
