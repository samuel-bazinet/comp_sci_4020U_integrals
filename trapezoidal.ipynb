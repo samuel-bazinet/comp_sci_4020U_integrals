{
 "cells": [
  {
   "cell_type": "code",
   "execution_count": 34,
   "id": "f74b8caf",
   "metadata": {},
   "outputs": [],
   "source": [
    "from typing import Callable\n",
    "import numpy as np\n",
    "from scipy.integrate import quad\n",
    "import math\n",
    "import inspect"
   ]
  },
  {
   "cell_type": "markdown",
   "id": "d8dfef89",
   "metadata": {},
   "source": [
    "# Trapezoidal Rule"
   ]
  },
  {
   "cell_type": "code",
   "execution_count": 50,
   "id": "436de239",
   "metadata": {},
   "outputs": [
    {
     "name": "stdout",
     "output_type": "stream",
     "text": [
      "Approximation of the integral: 0.6668027072067475\n"
     ]
    }
   ],
   "source": [
    "def trapezoidal_rule_summation(func, a, b, n):\n",
    "    \"\"\"\n",
    "    Approximates the integral of a function using the trapezoidal rule.\n",
    "\n",
    "    :param func: The function to integrate.\n",
    "    :param a: The lower limit of integration.\n",
    "    :param b: The upper limit of integration.\n",
    "    :param n: The number of partitions.\n",
    "    :return: The approximate value of the integral.\n",
    "    \"\"\"\n",
    "    # Initialize approximation and partition points\n",
    "    result = 0 \n",
    "    arr = np.linspace(a,b,n)\n",
    "    \n",
    "    for i in range(1, n):\n",
    "        result += (1/2)*(arr[i]-arr[i-1])*(func(arr[i]) + func(arr[i-1]))  # Add up intermediate terms\n",
    "    return result\n",
    "\n",
    "# # Example usage:\n",
    "def func(x):\n",
    "    return x**2\n",
    "\n",
    "a = -1\n",
    "b = 1\n",
    "n = 100\n",
    "integral_approximation = trapezoidal_rule_summation(func, a, b, n)\n",
    "print(\"Approximation of the integral:\", integral_approximation)"
   ]
  },
  {
   "cell_type": "code",
   "execution_count": 51,
   "id": "7d045d6f",
   "metadata": {},
   "outputs": [
    {
     "name": "stdout",
     "output_type": "stream",
     "text": [
      "Approximation of the integral: 0.6666666666666666\n"
     ]
    }
   ],
   "source": [
    "def integration(func, a, b):\n",
    "    return func(b)-func(a)\n",
    "\n",
    "def int_func(x):\n",
    "    return x**3/3\n",
    "\n",
    "a = -1\n",
    "b = 1\n",
    "integral_approximation = integration(int_func, a, b)\n",
    "print(\"Approximation of the integral:\", integral_approximation)"
   ]
  },
  {
   "cell_type": "code",
   "execution_count": 52,
   "id": "5ded8121",
   "metadata": {},
   "outputs": [],
   "source": [
    "# Establish Functions and Integrals to assess\n",
    "funcs = [\n",
    "    lambda x: x + 1, \n",
    "    lambda x: x**2 + 1, \n",
    "    lambda x: x**3 + 1, \n",
    "    lambda x: x**4 + 1, \n",
    "    lambda x: x**5 + 1,\n",
    "    lambda x: math.exp(x),\n",
    "    ]\n",
    "\n",
    "integrals = [\n",
    "    lambda x: (x**2)/2 + x, \n",
    "    lambda x: (x**3)/3 + x, \n",
    "    lambda x: (x**4)/4 + x, \n",
    "    lambda x: (x**5)/5 + x, \n",
    "    lambda x: (x**6)/6 + x,\n",
    "    lambda x: math.exp(x),\n",
    "    ]\n",
    "\n",
    "def format_func_str(input: str) -> str:\n",
    "    return input.replace('    lambda x: ', '').replace('**', '^').replace(',', '').replace('math.', '').strip(' \\n')"
   ]
  },
  {
   "cell_type": "code",
   "execution_count": 53,
   "id": "3c8b5a8d",
   "metadata": {},
   "outputs": [
    {
     "name": "stdout",
     "output_type": "stream",
     "text": [
      "f(x) = x + 1\n",
      "g(x) = (x^2)/2 + x\n",
      "Partitions\tApproximate Integral\tExact Integral\t\tAbsolute Percent Error\n",
      "----------------------------------------------------------------------------------------------------\n",
      "1\t\t0.000000\t\t2.000000\t\t100.00%\n",
      "2\t\t2.000000\t\t2.000000\t\t0.00%\n",
      "4\t\t2.000000\t\t2.000000\t\t0.00%\n",
      "8\t\t2.000000\t\t2.000000\t\t0.00%\n",
      "16\t\t2.000000\t\t2.000000\t\t0.00%\n",
      "32\t\t2.000000\t\t2.000000\t\t0.00%\n",
      "64\t\t2.000000\t\t2.000000\t\t0.00%\n",
      "128\t\t2.000000\t\t2.000000\t\t0.00%\n",
      "\n",
      "\n",
      "f(x) = x^2 + 1\n",
      "g(x) = (x^3)/3 + x\n",
      "Partitions\tApproximate Integral\tExact Integral\t\tAbsolute Percent Error\n",
      "----------------------------------------------------------------------------------------------------\n",
      "1\t\t0.000000\t\t2.666667\t\t100.00%\n",
      "2\t\t4.000000\t\t2.666667\t\t50.00%\n",
      "4\t\t2.814815\t\t2.666667\t\t5.56%\n",
      "8\t\t2.693878\t\t2.666667\t\t1.02%\n",
      "16\t\t2.672593\t\t2.666667\t\t0.22%\n",
      "32\t\t2.668054\t\t2.666667\t\t0.05%\n",
      "64\t\t2.667003\t\t2.666667\t\t0.01%\n",
      "128\t\t2.666749\t\t2.666667\t\t0.00%\n",
      "\n",
      "\n",
      "f(x) = x^3 + 1\n",
      "g(x) = (x^4)/4 + x\n",
      "Partitions\tApproximate Integral\tExact Integral\t\tAbsolute Percent Error\n",
      "----------------------------------------------------------------------------------------------------\n",
      "1\t\t0.000000\t\t2.000000\t\t100.00%\n",
      "2\t\t2.000000\t\t2.000000\t\t0.00%\n",
      "4\t\t2.000000\t\t2.000000\t\t0.00%\n",
      "8\t\t2.000000\t\t2.000000\t\t0.00%\n",
      "16\t\t2.000000\t\t2.000000\t\t0.00%\n",
      "32\t\t2.000000\t\t2.000000\t\t0.00%\n",
      "64\t\t2.000000\t\t2.000000\t\t0.00%\n",
      "128\t\t2.000000\t\t2.000000\t\t0.00%\n",
      "\n",
      "\n",
      "f(x) = x^4 + 1\n",
      "g(x) = (x^5)/5 + x\n",
      "Partitions\tApproximate Integral\tExact Integral\t\tAbsolute Percent Error\n",
      "----------------------------------------------------------------------------------------------------\n",
      "1\t\t0.000000\t\t2.400000\t\t100.00%\n",
      "2\t\t4.000000\t\t2.400000\t\t66.67%\n",
      "4\t\t2.683128\t\t2.400000\t\t11.80%\n",
      "8\t\t2.453978\t\t2.400000\t\t2.25%\n",
      "16\t\t2.411831\t\t2.400000\t\t0.49%\n",
      "32\t\t2.402774\t\t2.400000\t\t0.12%\n",
      "64\t\t2.400672\t\t2.400000\t\t0.03%\n",
      "128\t\t2.400165\t\t2.400000\t\t0.01%\n",
      "\n",
      "\n",
      "f(x) = x^5 + 1\n",
      "g(x) = (x^6)/6 + x\n",
      "Partitions\tApproximate Integral\tExact Integral\t\tAbsolute Percent Error\n",
      "----------------------------------------------------------------------------------------------------\n",
      "1\t\t0.000000\t\t2.000000\t\t100.00%\n",
      "2\t\t2.000000\t\t2.000000\t\t0.00%\n",
      "4\t\t2.000000\t\t2.000000\t\t0.00%\n",
      "8\t\t2.000000\t\t2.000000\t\t0.00%\n",
      "16\t\t2.000000\t\t2.000000\t\t0.00%\n",
      "32\t\t2.000000\t\t2.000000\t\t0.00%\n",
      "64\t\t2.000000\t\t2.000000\t\t0.00%\n",
      "128\t\t2.000000\t\t2.000000\t\t0.00%\n",
      "\n",
      "\n",
      "f(x) = exp(x)\n",
      "g(x) = exp(x)\n",
      "Partitions\tApproximate Integral\tExact Integral\t\tAbsolute Percent Error\n",
      "----------------------------------------------------------------------------------------------------\n",
      "1\t\t0.000000\t\t2.350402\t\t100.00%\n",
      "2\t\t3.086161\t\t2.350402\t\t31.30%\n",
      "4\t\t2.436816\t\t2.350402\t\t3.68%\n",
      "8\t\t2.366370\t\t2.350402\t\t0.68%\n",
      "16\t\t2.353883\t\t2.350402\t\t0.15%\n",
      "32\t\t2.351218\t\t2.350402\t\t0.03%\n",
      "64\t\t2.350600\t\t2.350402\t\t0.01%\n",
      "128\t\t2.350451\t\t2.350402\t\t0.00%\n",
      "\n",
      "\n"
     ]
    }
   ],
   "source": [
    "# List of Δx values (partitions) we want to test \n",
    "delta_x_values = [1, 2, 4, 8, 16, 32, 64, 128]\n",
    "\n",
    "# Create Error Table for above formulas\n",
    "for fun, inte in zip(funcs, integrals):\n",
    "    print(\"f(x) =\", format_func_str(inspect.getsource(fun)))\n",
    "    print(\"g(x) =\", format_func_str(inspect.getsource(inte)))\n",
    "    # Create the table\n",
    "    print(\"Partitions\\tApproximate Integral\\tExact Integral\\t\\tAbsolute Percent Error\")\n",
    "    print(\"-\" * 100)\n",
    "    # Calculate the Trapezoidal Rule for Each Partition\n",
    "    for delta_x in delta_x_values:\n",
    "        approximate_integral =  trapezoidal_rule_summation(fun, a, b, delta_x) \n",
    "        absolute_percent_error = abs((integration(inte, a, b) - approximate_integral) / integration(inte, a, b)) * 100\n",
    "        print(f\"{delta_x}\\t\\t{approximate_integral:.6f}\\t\\t{integration(inte, a, b):.6f}\\t\\t{absolute_percent_error:.2f}%\")\n",
    "    print(\"\\n\")"
   ]
  },
  {
   "cell_type": "code",
   "execution_count": null,
   "id": "84863ba8",
   "metadata": {},
   "outputs": [],
   "source": []
  }
 ],
 "metadata": {
  "kernelspec": {
   "display_name": "Python 3 (ipykernel)",
   "language": "python",
   "name": "python3"
  },
  "language_info": {
   "codemirror_mode": {
    "name": "ipython",
    "version": 3
   },
   "file_extension": ".py",
   "mimetype": "text/x-python",
   "name": "python",
   "nbconvert_exporter": "python",
   "pygments_lexer": "ipython3",
   "version": "3.11.4"
  }
 },
 "nbformat": 4,
 "nbformat_minor": 5
}
