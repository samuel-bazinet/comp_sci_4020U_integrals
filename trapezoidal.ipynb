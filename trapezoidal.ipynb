{
 "cells": [
  {
   "cell_type": "code",
   "execution_count": 5,
   "id": "f74b8caf",
   "metadata": {},
   "outputs": [],
   "source": [
    "from typing import Callable\n",
    "import numpy as np\n",
    "import scipy.integrate import quad\n",
    "import math\n",
    "import inspect"
   ]
  },
  {
   "cell_type": "markdown",
   "id": "d8dfef89",
   "metadata": {},
   "source": [
    "# Trapezoidal Rule"
   ]
  },
  {
   "cell_type": "code",
   "execution_count": 27,
   "id": "436de239",
   "metadata": {},
   "outputs": [
    {
     "name": "stdout",
     "output_type": "stream",
     "text": [
      "Approximation of the integral: 0.6668027072067475\n"
     ]
    }
   ],
   "source": [
    "def trapezoidal_rule_summation(func, a, b, n):\n",
    "    \"\"\"\n",
    "    Approximates the integral of a function using the trapezoidal rule.\n",
    "\n",
    "    :param func: The function to integrate.\n",
    "    :param a: The lower limit of integration.\n",
    "    :param b: The upper limit of integration.\n",
    "    :param n: The number of partitions.\n",
    "    :return: The approximate value of the integral.\n",
    "    \"\"\"\n",
    "    # Initialize approximation and partition points\n",
    "    result = 0 \n",
    "    arr = np.linspace(a,b,n)\n",
    "    \n",
    "    for i in range(1, n):\n",
    "        result += (1/2)*(arr[i]-arr[i-1])*(func(arr[i]) + func(arr[i-1]))  # Add up intermediate terms\n",
    "    return result\n",
    "\n",
    "# Example usage:\n",
    "def func(x):\n",
    "    return x**2\n",
    "\n",
    "a = -1\n",
    "b = 1\n",
    "n = 100\n",
    "integral_approximation = trapezoidal_rule_summation(func, a, b, n)\n",
    "print(\"Approximation of the integral:\", integral_approximation)"
   ]
  },
  {
   "cell_type": "code",
   "execution_count": 28,
   "id": "7d045d6f",
   "metadata": {},
   "outputs": [
    {
     "name": "stdout",
     "output_type": "stream",
     "text": [
      "Approximation of the integral: 0.6666666666666666\n"
     ]
    }
   ],
   "source": [
    "def integration(func, a, b):\n",
    "    return func(b)-func(a)\n",
    "\n",
    "def int_func(x):\n",
    "    return x**3/3\n",
    "\n",
    "a = -1\n",
    "b = 1\n",
    "integral_approximation = integration(int_func, a, b)\n",
    "print(\"Approximation of the integral:\", integral_approximation)"
   ]
  },
  {
   "cell_type": "code",
   "execution_count": null,
   "id": "3c8b5a8d",
   "metadata": {},
   "outputs": [],
   "source": []
  }
 ],
 "metadata": {
  "kernelspec": {
   "display_name": "Python 3 (ipykernel)",
   "language": "python",
   "name": "python3"
  },
  "language_info": {
   "codemirror_mode": {
    "name": "ipython",
    "version": 3
   },
   "file_extension": ".py",
   "mimetype": "text/x-python",
   "name": "python",
   "nbconvert_exporter": "python",
   "pygments_lexer": "ipython3",
   "version": "3.11.4"
  }
 },
 "nbformat": 4,
 "nbformat_minor": 5
}
