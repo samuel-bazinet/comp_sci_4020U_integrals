{
 "cells": [
  {
   "cell_type": "markdown",
   "metadata": {},
   "source": [
    "#### Riemann's Sum"
   ]
  },
  {
   "cell_type": "code",
   "execution_count": 7,
   "metadata": {},
   "outputs": [],
   "source": [
    "import numpy as np\n",
    "\n",
    "# f - the function that we want to integrate.\n",
    "# a - the lower bound of the integral.\n",
    "# b - The upper bound of the integral.\n",
    "# n - the number of sub-intervals (the number of rectangles we want to use).\n",
    "# \n",
    "# method - \"left\" represents left-aligned Riemann's Sum, \n",
    "#          \"mid\" represents midpoint-aligned Riemann's Sum, \n",
    "#          \"right\" represents right-aligned Riemann's Sum.\n",
    "\n",
    "def riemann_sum(f, a, b, n, method):\n",
    "    dx = (b - a) / n\n",
    "    x_values = np.linspace(a, b, n, endpoint=False)\n",
    "    if method == 'left':\n",
    "        return sum(f(x) * dx for x in x_values)\n",
    "    elif method == 'mid':\n",
    "        x_values += 0.5 * dx\n",
    "    elif method == 'right':\n",
    "        x_values += dx\n",
    "    else:\n",
    "        print(\"Invalid method chosen. Choose 'left', 'mid', or 'right'.\")\n",
    "\n",
    "    return sum(f(x) * dx for x in x_values)"
   ]
  },
  {
   "cell_type": "code",
   "execution_count": 5,
   "metadata": {},
   "outputs": [
    {
     "name": "stdout",
     "output_type": "stream",
     "text": [
      "Δx\t\tApproximate Integral\tExact Integral\t\tAbsolute Percent Error\n",
      "----------------------------------------------------------------------------------------------------\n",
      "5.000000e-01\t0.2397\t\t\t0.45969769413186023\t47.85%\n",
      "2.500000e-01\t0.3521\t\t\t0.45969769413186023\t23.40%\n",
      "1.250000e-01\t0.4065\t\t\t0.45969769413186023\t11.57%\n",
      "6.250000e-02\t0.4333\t\t\t0.45969769413186023\t5.75%\n",
      "3.125000e-02\t0.4465\t\t\t0.45969769413186023\t2.87%\n",
      "1.562500e-02\t0.4531\t\t\t0.45969769413186023\t1.43%\n",
      "7.812500e-03\t0.4564\t\t\t0.45969769413186023\t0.72%\n",
      "3.906250e-03\t0.4581\t\t\t0.45969769413186023\t0.36%\n"
     ]
    }
   ],
   "source": [
    "# Function that we want to integrate\n",
    "def f(x):\n",
    "    return np.sin(x) \n",
    "\n",
    "# The exact integral of the function sin(x) between 0 and 1.\n",
    "exact_integral = 1-np.cos(1)\n",
    "\n",
    "# List of Δx values (the width of our rectangles) we want to test \n",
    "delta_x_values = [2**-1, 2**-2, 2**-3, 2**-4, 2**-5, 2**-6, 2**-7, 2**-8]\n",
    "\n",
    "if __name__ == '__main__':\n",
    "\n",
    "    # Create the table\n",
    "    print(\"Δx\\t\\tApproximate Integral\\tExact Integral\\t\\tAbsolute Percent Error\")\n",
    "    print(\"-\" * 100)\n",
    "\n",
    "    # Calculate the Riemann sum approximations for each Δx\n",
    "    for delta_x in delta_x_values:\n",
    "        approximate_integral = riemann_sum(f, 0, 1, int(1/delta_x), method='left') # we are increasing the number of rectangles by a factor of 2\n",
    "        absolute_percent_error = abs((exact_integral - approximate_integral) / exact_integral) * 100\n",
    "        print(f\"{delta_x:e}\\t{approximate_integral:.4f}\\t\\t\\t{exact_integral}\\t{absolute_percent_error:.2f}%\")"
   ]
  }
 ],
 "metadata": {
  "kernelspec": {
   "display_name": "base",
   "language": "python",
   "name": "python3"
  },
  "language_info": {
   "codemirror_mode": {
    "name": "ipython",
    "version": 3
   },
   "file_extension": ".py",
   "mimetype": "text/x-python",
   "name": "python",
   "nbconvert_exporter": "python",
   "pygments_lexer": "ipython3",
   "version": "3.11.4"
  }
 },
 "nbformat": 4,
 "nbformat_minor": 2
}
