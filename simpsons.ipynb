{
 "cells": [
  {
   "cell_type": "code",
   "execution_count": 2,
   "metadata": {},
   "outputs": [],
   "source": [
    "from typing import Callable\n",
    "import numpy as np\n",
    "import math\n"
   ]
  },
  {
   "cell_type": "code",
   "execution_count": 3,
   "metadata": {},
   "outputs": [],
   "source": [
    "def simpsons(f: Callable[[float], float], i: int, a: float, b: float) -> float:\n",
    "    xs = np.linspace(a, b, i, True, dtype = np.float64)\n",
    "    A: list[np.float64] = []\n",
    "    assert i >= 2\n",
    "    for i in range(1, len(xs)):\n",
    "        m = (xs[i] + xs[i-1])/2\n",
    "        a = (1/6) * (f(xs[i]) + 4*f(m) + f(xs[i-1]))*(xs[i]-xs[i-1])\n",
    "        A.append(a)\n",
    "    return sum(A)"
   ]
  },
  {
   "cell_type": "code",
   "execution_count": 6,
   "metadata": {},
   "outputs": [
    {
     "name": "stdout",
     "output_type": "stream",
     "text": [
      "0.6666666666666666\n",
      "11.25\n",
      "6.625\n",
      "2.5242969248984983\n",
      "1.7182891699208316\n",
      "1.718281828459045\n"
     ]
    }
   ],
   "source": [
    "if __name__ == '__main__':\n",
    "    f = lambda x: x**2\n",
    "    print(simpsons(f, 2, -1, 1))\n",
    "    f3 = lambda x: x**3 + x**2 + x + 1\n",
    "    print(simpsons(f3, 5, -1, 2))\n",
    "    f4 = lambda x: x**4\n",
    "    print(simpsons(f4, 4, -1, 2))\n",
    "    sinfun = lambda x: math.sin(x) + x**3\n",
    "    print(simpsons(sinfun, 2, 0, math.pi/2))\n",
    "    expfun = lambda x: math.exp(x)\n",
    "    print(simpsons(expfun, 4, 0, 1))\n",
    "    print(math.e - 1)"
   ]
  }
 ],
 "metadata": {
  "kernelspec": {
   "display_name": "base",
   "language": "python",
   "name": "python3"
  },
  "language_info": {
   "codemirror_mode": {
    "name": "ipython",
    "version": 3
   },
   "file_extension": ".py",
   "mimetype": "text/x-python",
   "name": "python",
   "nbconvert_exporter": "python",
   "pygments_lexer": "ipython3",
   "version": "3.11.4"
  }
 },
 "nbformat": 4,
 "nbformat_minor": 2
}
