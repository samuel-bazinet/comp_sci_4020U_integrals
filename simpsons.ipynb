{
 "cells": [
  {
   "cell_type": "code",
   "execution_count": 7,
   "metadata": {},
   "outputs": [],
   "source": [
    "from typing import Callable\n",
    "import numpy as np"
   ]
  },
  {
   "cell_type": "code",
   "execution_count": 5,
   "metadata": {},
   "outputs": [],
   "source": [
    "def simps_2d(f: Callable[[float], float], a: float, b:float) -> float:\n",
    "    m = (a+b)/2\n",
    "    return ((b-a)/6)*(f(a) + 4*f(m) + f(b))"
   ]
  },
  {
   "cell_type": "code",
   "execution_count": 6,
   "metadata": {},
   "outputs": [
    {
     "data": {
      "text/plain": [
       "0.6666666666666666"
      ]
     },
     "execution_count": 6,
     "metadata": {},
     "output_type": "execute_result"
    }
   ],
   "source": [
    "f = lambda x: x**2\n",
    "simps_2d(f, -1, 1)"
   ]
  },
  {
   "cell_type": "code",
   "execution_count": 23,
   "metadata": {},
   "outputs": [],
   "source": [
    "def general_simpson(f: Callable[[float], float], degree: int, a: float, b: float) -> float:\n",
    "    xs = np.linspace(a, b, degree, True, dtype = np.float64)\n",
    "    A: list[np.float64] = []\n",
    "    for i in range(1, len(xs)):\n",
    "        m = (xs[i] + xs[i-1])/2\n",
    "        a = (1/6) * (f(xs[i]) + 4*f(m) + f(xs[i-1]))*(xs[i]-xs[i-1])\n",
    "        A.append(a)\n",
    "    return sum(A)"
   ]
  },
  {
   "cell_type": "code",
   "execution_count": 52,
   "metadata": {},
   "outputs": [
    {
     "name": "stdout",
     "output_type": "stream",
     "text": [
      "0.6666666666666663\n",
      "3.75\n",
      "6.6000000000000085\n"
     ]
    }
   ],
   "source": [
    "print(general_simpson(f, 2, -1, 1))\n",
    "f3 = lambda x: x**3\n",
    "print(general_simpson(f3, 2, -1, 2))\n",
    "f4 = lambda x: x**4\n",
    "print(general_simpson(f4, 4, -1, 2))"
   ]
  }
 ],
 "metadata": {
  "kernelspec": {
   "display_name": "base",
   "language": "python",
   "name": "python3"
  },
  "language_info": {
   "codemirror_mode": {
    "name": "ipython",
    "version": 3
   },
   "file_extension": ".py",
   "mimetype": "text/x-python",
   "name": "python",
   "nbconvert_exporter": "python",
   "pygments_lexer": "ipython3",
   "version": "3.11.4"
  }
 },
 "nbformat": 4,
 "nbformat_minor": 2
}
