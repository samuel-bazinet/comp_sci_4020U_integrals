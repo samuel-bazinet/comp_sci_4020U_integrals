{
 "cells": [
  {
   "cell_type": "code",
   "execution_count": 29,
   "id": "b7ab9ebf",
   "metadata": {},
   "outputs": [],
   "source": [
    "from typing import Callable\n",
    "import numpy as np\n",
    "from scipy.integrate import quad\n",
    "import math\n",
    "import inspect"
   ]
  },
  {
   "cell_type": "markdown",
   "id": "363fce5c",
   "metadata": {},
   "source": [
    "# Quadrature"
   ]
  },
  {
   "cell_type": "code",
   "execution_count": 62,
   "id": "e4498e35",
   "metadata": {},
   "outputs": [
    {
     "name": "stdout",
     "output_type": "stream",
     "text": [
      "Gaussian quadrature result: 0.6666666666666671\n"
     ]
    }
   ],
   "source": [
    "import numpy as np\n",
    "from scipy.special import roots_legendre\n",
    "\n",
    "def gaussian_quadrature(func, a, b, n):\n",
    "    \"\"\"\n",
    "    Approximates the integral of a function using gaussian quadrature.\n",
    "\n",
    "    :param func: The function to integrate.\n",
    "    :param a: The lower limit of integration.\n",
    "    :param b: The upper limit of integration.\n",
    "    :param n: Legendre Degree / Number of Partitions.\n",
    "    :return: The approximate value of the integral.\n",
    "    \"\"\"\n",
    "    # Get the roots and weights using Legendre polynomials\n",
    "    nodes, weights = roots_legendre(n)\n",
    "        \n",
    "    # Map nodes and weights of non [-1,1] Range\n",
    "    if (a != -1 and b != 1):\n",
    "        nodes = 0.5 * (b - a) * nodes + 0.5 * (b + a)\n",
    "        weights *= 0.5 * (b - a)\n",
    "\n",
    "    # Compute the integral approximation\n",
    "    integral = np.sum(weights * func(nodes))\n",
    "\n",
    "    return integral\n",
    "\n",
    "def func(x):\n",
    "    return x**2\n",
    "\n",
    "# Legendre Degree\n",
    "n = 3\n",
    "\n",
    "# Calculate Gaussian quadrature\n",
    "result = gaussian_quadrature(func, -1, 1, n)\n",
    "print(\"Gaussian quadrature result:\", result)\n"
   ]
  },
  {
   "cell_type": "code",
   "execution_count": 61,
   "id": "4299192e",
   "metadata": {},
   "outputs": [
    {
     "name": "stdout",
     "output_type": "stream",
     "text": [
      "Integration Result: 0.6666666666666666\n"
     ]
    }
   ],
   "source": [
    "def integration(func, a, b):\n",
    "    return func(b)-func(a)\n",
    "\n",
    "def inte(x):\n",
    "    return x**3/3\n",
    "\n",
    "result = integration(inte, -1, 1)\n",
    "print(\"Integration Result:\", result)"
   ]
  },
  {
   "cell_type": "code",
   "execution_count": null,
   "id": "ea4057b8",
   "metadata": {},
   "outputs": [],
   "source": []
  }
 ],
 "metadata": {
  "kernelspec": {
   "display_name": "Python 3 (ipykernel)",
   "language": "python",
   "name": "python3"
  },
  "language_info": {
   "codemirror_mode": {
    "name": "ipython",
    "version": 3
   },
   "file_extension": ".py",
   "mimetype": "text/x-python",
   "name": "python",
   "nbconvert_exporter": "python",
   "pygments_lexer": "ipython3",
   "version": "3.11.4"
  }
 },
 "nbformat": 4,
 "nbformat_minor": 5
}
