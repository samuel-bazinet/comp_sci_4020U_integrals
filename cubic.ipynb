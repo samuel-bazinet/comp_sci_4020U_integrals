{
 "cells": [
  {
   "cell_type": "markdown",
   "metadata": {},
   "source": [
    "Let \n",
    "$$\n",
    "    \\int_{a}^{b}f(x)dx = A_1f(a) + A_2f(m) + A_3f(n) + A_4f(b)\n",
    "$$\n",
    "\n",
    "then\n",
    "\n",
    "$$\n",
    "    \\int_{a}^{b}1dx = b-a = A_1 + A_2 + A_3 + A_4\n",
    "$$\n",
    "\n",
    "$$\n",
    "    \\int_{a}^{b}xdx = \\frac{b^2-a^2}{2} = A_1{a} + A_2(a+\\frac{b-a}{3}) + A_3{(a+2\\frac{b-a}{3})} + A_4{b}\n",
    "$$\n",
    "\n",
    "$$\n",
    "    \\int_{a}^{b}x^2dx = \\frac{b^3-a^3}{3} = A_1{a^2} + A_2(a+\\frac{b-a}{3})^2+ A_3{(a+2\\frac{b-a}{3})}^2 + A_4{b^2}\n",
    "$$\n",
    "\n",
    "$$\n",
    "    \\int_{a}^{b}x^3dx = \\frac{b^4-a^4}{4} = A_1{a^3} + A_2(a+\\frac{b-a}{3})^3+ A_3{(a+2\\frac{b-a}{3})}^3 + A_4{b^3}\n",
    "$$\n",
    "\n",
    "Using Guass-Jordan eimination\n",
    "\n",
    "$$\n",
    "\\left[\n",
    "\\begin{array}{cccc|c}\n",
    "A_1 & A_2 & A_3 & A_4 & b-a\\\\\n",
    "A_1a & A_2(a +\\frac{b-a}{3}) & A_3(a+2\\frac{b-a}{3}) & A_4b & \\frac{b^2-a^2}{2}\\\\\n",
    "A_1a^2 & A_2(a+ \\frac{b-a}{3})^2 & A_3(a+2\\frac{b-a}{3})^2 & A_4b^2 & \\frac{b^3-a^3}{3}\\\\\n",
    "A_1a^3 & A_2(a+ \\frac{b-a}{3})^3 & A_3(a+2\\frac{b-a}{3})^3 & A_4b^3 & \\frac{b^4-a^4}{4}\n",
    "\\end{array}\n",
    "\\right]\n",
    "$$\n",
    "\n",
    "Using Maple to solve this, we get:\n",
    "\n",
    "$A_1 = \\frac{b-a}{8}$\n",
    "\n",
    "$A_2 = 3\\frac{b-a}{8}$\n",
    "\n",
    "$A_3 = 3\\frac{b-a}{8}$\n",
    "\n",
    "$A_4 = \\frac{b-a}{8}$\n",
    "\n",
    "Using those coefficents, we can make the cubic rule:\n",
    "\n",
    "$$\n",
    "\\int_{a}^{b} f(x)dx \\approx \\frac{1}{8} \\left[f(a) + 3f(a+\\frac{b-a}{3}) + 3f(a + 2\\frac{b-a}{3}) + f(b)\\right]\n",
    "$$"
   ]
  },
  {
   "cell_type": "code",
   "execution_count": 3,
   "metadata": {},
   "outputs": [],
   "source": [
    "import numpy as np\n",
    "from typing import Callable\n",
    "\n",
    "def cubic(f: Callable[[float], float], i: int, a: float, b: float):\n",
    "    xs = np.linspace(a, b, i, True, dtype = np.float64)\n",
    "    A: list[np.float64] = []\n",
    "    assert i >=2\n",
    "    for i in range(1, len(xs)):\n",
    "        m_1 = (xs[i] + (xs[i-1]-xs[i])/3)\n",
    "        m_2 = (xs[i] + 2*(xs[i-1]-xs[i])/3)\n",
    "        a = (1/8) * (f(xs[i]) + 3*f(m_1) + 3*f(m_2) + f(xs[i-1]))*(xs[i]-xs[i-1])\n",
    "        A.append(a)\n",
    "    return sum(A)"
   ]
  }
 ],
 "metadata": {
  "kernelspec": {
   "display_name": "base",
   "language": "python",
   "name": "python3"
  },
  "language_info": {
   "codemirror_mode": {
    "name": "ipython",
    "version": 3
   },
   "file_extension": ".py",
   "mimetype": "text/x-python",
   "name": "python",
   "nbconvert_exporter": "python",
   "pygments_lexer": "ipython3",
   "version": "3.11.4"
  }
 },
 "nbformat": 4,
 "nbformat_minor": 2
}
